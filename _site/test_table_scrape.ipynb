{
 "cells": [
  {
   "cell_type": "code",
   "execution_count": 33,
   "id": "9b665a60-c291-4328-8363-5807508b2254",
   "metadata": {},
   "outputs": [],
   "source": [
    "from urllib.request import urlopen\n",
    "import json\n",
    "import pandas as pd\n",
    "\n",
    "url = 'https://larimer-county-data-lake.s3-us-west-2.amazonaws.com/Public/covid/covid_patient_trend.json?t=1632506827395'\n"
   ]
  },
  {
   "cell_type": "code",
   "execution_count": 38,
   "id": "3fed5ce9-7d4f-4d8a-9947-adb30c059085",
   "metadata": {},
   "outputs": [
    {
     "data": {
      "text/html": [
       "<div>\n",
       "<style scoped>\n",
       "    .dataframe tbody tr th:only-of-type {\n",
       "        vertical-align: middle;\n",
       "    }\n",
       "\n",
       "    .dataframe tbody tr th {\n",
       "        vertical-align: top;\n",
       "    }\n",
       "\n",
       "    .dataframe thead th {\n",
       "        text-align: right;\n",
       "    }\n",
       "</style>\n",
       "<table border=\"1\" class=\"dataframe\">\n",
       "  <thead>\n",
       "    <tr style=\"text-align: right;\">\n",
       "      <th></th>\n",
       "      <th>Date</th>\n",
       "      <th>admission_count</th>\n",
       "      <th>kpi_admits_indicator</th>\n",
       "      <th>inpatient_count</th>\n",
       "      <th>kpi_patient_indicator</th>\n",
       "      <th>inpatient_count_pct_change</th>\n",
       "    </tr>\n",
       "  </thead>\n",
       "  <tbody>\n",
       "    <tr>\n",
       "      <th>0</th>\n",
       "      <td>2020-03-31T00:00:00.000Z</td>\n",
       "      <td>NaN</td>\n",
       "      <td>NaN</td>\n",
       "      <td>47</td>\n",
       "      <td>0</td>\n",
       "      <td>NaN</td>\n",
       "    </tr>\n",
       "    <tr>\n",
       "      <th>1</th>\n",
       "      <td>2020-04-01T00:00:00.000Z</td>\n",
       "      <td>NaN</td>\n",
       "      <td>NaN</td>\n",
       "      <td>46</td>\n",
       "      <td>0</td>\n",
       "      <td>NaN</td>\n",
       "    </tr>\n",
       "    <tr>\n",
       "      <th>2</th>\n",
       "      <td>2020-04-02T00:00:00.000Z</td>\n",
       "      <td>NaN</td>\n",
       "      <td>NaN</td>\n",
       "      <td>46</td>\n",
       "      <td>0</td>\n",
       "      <td>NaN</td>\n",
       "    </tr>\n",
       "    <tr>\n",
       "      <th>3</th>\n",
       "      <td>2020-04-03T00:00:00.000Z</td>\n",
       "      <td>2.0</td>\n",
       "      <td>0.0</td>\n",
       "      <td>46</td>\n",
       "      <td>0</td>\n",
       "      <td>NaN</td>\n",
       "    </tr>\n",
       "    <tr>\n",
       "      <th>4</th>\n",
       "      <td>2020-04-04T00:00:00.000Z</td>\n",
       "      <td>1.0</td>\n",
       "      <td>0.0</td>\n",
       "      <td>42</td>\n",
       "      <td>0</td>\n",
       "      <td>NaN</td>\n",
       "    </tr>\n",
       "    <tr>\n",
       "      <th>...</th>\n",
       "      <td>...</td>\n",
       "      <td>...</td>\n",
       "      <td>...</td>\n",
       "      <td>...</td>\n",
       "      <td>...</td>\n",
       "      <td>...</td>\n",
       "    </tr>\n",
       "    <tr>\n",
       "      <th>367</th>\n",
       "      <td>2021-09-16T00:00:00.000Z</td>\n",
       "      <td>9.0</td>\n",
       "      <td>0.0</td>\n",
       "      <td>73</td>\n",
       "      <td>1</td>\n",
       "      <td>-13.095238</td>\n",
       "    </tr>\n",
       "    <tr>\n",
       "      <th>368</th>\n",
       "      <td>2021-09-20T00:00:00.000Z</td>\n",
       "      <td>6.0</td>\n",
       "      <td>0.0</td>\n",
       "      <td>66</td>\n",
       "      <td>1</td>\n",
       "      <td>-25.000000</td>\n",
       "    </tr>\n",
       "    <tr>\n",
       "      <th>369</th>\n",
       "      <td>2021-09-21T00:00:00.000Z</td>\n",
       "      <td>12.0</td>\n",
       "      <td>0.0</td>\n",
       "      <td>68</td>\n",
       "      <td>1</td>\n",
       "      <td>-15.000000</td>\n",
       "    </tr>\n",
       "    <tr>\n",
       "      <th>370</th>\n",
       "      <td>2021-09-22T00:00:00.000Z</td>\n",
       "      <td>5.0</td>\n",
       "      <td>0.0</td>\n",
       "      <td>60</td>\n",
       "      <td>0</td>\n",
       "      <td>-25.925926</td>\n",
       "    </tr>\n",
       "    <tr>\n",
       "      <th>371</th>\n",
       "      <td>2021-09-23T00:00:00.000Z</td>\n",
       "      <td>11.0</td>\n",
       "      <td>0.0</td>\n",
       "      <td>65</td>\n",
       "      <td>1</td>\n",
       "      <td>-14.473684</td>\n",
       "    </tr>\n",
       "  </tbody>\n",
       "</table>\n",
       "<p>372 rows × 6 columns</p>\n",
       "</div>"
      ],
      "text/plain": [
       "                         Date  admission_count  kpi_admits_indicator  \\\n",
       "0    2020-03-31T00:00:00.000Z              NaN                   NaN   \n",
       "1    2020-04-01T00:00:00.000Z              NaN                   NaN   \n",
       "2    2020-04-02T00:00:00.000Z              NaN                   NaN   \n",
       "3    2020-04-03T00:00:00.000Z              2.0                   0.0   \n",
       "4    2020-04-04T00:00:00.000Z              1.0                   0.0   \n",
       "..                        ...              ...                   ...   \n",
       "367  2021-09-16T00:00:00.000Z              9.0                   0.0   \n",
       "368  2021-09-20T00:00:00.000Z              6.0                   0.0   \n",
       "369  2021-09-21T00:00:00.000Z             12.0                   0.0   \n",
       "370  2021-09-22T00:00:00.000Z              5.0                   0.0   \n",
       "371  2021-09-23T00:00:00.000Z             11.0                   0.0   \n",
       "\n",
       "     inpatient_count  kpi_patient_indicator  inpatient_count_pct_change  \n",
       "0                 47                      0                         NaN  \n",
       "1                 46                      0                         NaN  \n",
       "2                 46                      0                         NaN  \n",
       "3                 46                      0                         NaN  \n",
       "4                 42                      0                         NaN  \n",
       "..               ...                    ...                         ...  \n",
       "367               73                      1                  -13.095238  \n",
       "368               66                      1                  -25.000000  \n",
       "369               68                      1                  -15.000000  \n",
       "370               60                      0                  -25.925926  \n",
       "371               65                      1                  -14.473684  \n",
       "\n",
       "[372 rows x 6 columns]"
      ]
     },
     "execution_count": 38,
     "metadata": {},
     "output_type": "execute_result"
    }
   ],
   "source": [
    "response = urlopen(url)\n",
    "json_data = response.read().decode('utf-8', 'replace')\n",
    "\n",
    "d = json.loads(json_data)\n",
    "larimer_hosp = pd.json_normalize(d['data'])\n",
    "larimer_hosp"
   ]
  },
  {
   "cell_type": "code",
   "execution_count": 1,
   "id": "4c8182b4-42c7-4b31-9c13-d59877bc87f5",
   "metadata": {},
   "outputs": [],
   "source": [
    "import numpy as np"
   ]
  },
  {
   "cell_type": "code",
   "execution_count": 3,
   "id": "68425d9e-553b-4215-a35b-15f4e01daf1c",
   "metadata": {},
   "outputs": [
    {
     "data": {
      "text/plain": [
       "array([-30,   1,  37])"
      ]
     },
     "metadata": {},
     "output_type": "display_data"
    },
    {
     "data": {
      "text/plain": [
       "-5"
      ]
     },
     "metadata": {},
     "output_type": "display_data"
    }
   ],
   "source": [
    "x = [1, -7, 1]\n",
    "y = [5, 2, 4]\n",
    "\n",
    "display(np.cross(x,y))\n",
    "display(np.dot(x,y))"
   ]
  },
  {
   "cell_type": "code",
   "execution_count": null,
   "id": "d4909c8d-fcca-4309-8157-34839f768a34",
   "metadata": {},
   "outputs": [],
   "source": []
  }
 ],
 "metadata": {
  "kernelspec": {
   "display_name": "Python 3 (ipykernel)",
   "language": "python",
   "name": "python3"
  },
  "language_info": {
   "codemirror_mode": {
    "name": "ipython",
    "version": 3
   },
   "file_extension": ".py",
   "mimetype": "text/x-python",
   "name": "python",
   "nbconvert_exporter": "python",
   "pygments_lexer": "ipython3",
   "version": "3.8.11"
  }
 },
 "nbformat": 4,
 "nbformat_minor": 5
}
